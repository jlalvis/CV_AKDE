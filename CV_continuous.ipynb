{
 "cells": [
  {
   "cell_type": "markdown",
   "metadata": {},
   "source": [
    "# Cross-validation for continuous structural parameter\n",
    "Computation of a cross-validation score for different combinations of the number of features $N_f$ and the number of \n",
    "clusters $N_c$ used in adaptive kernel density estimation."
   ]
  },
  {
   "cell_type": "code",
   "execution_count": 1,
   "metadata": {},
   "outputs": [],
   "source": [
    "import numpy as np\n",
    "from scipy import io\n",
    "from sklearn import manifold\n",
    "import matplotlib.pyplot as plt\n",
    "from sklearn.decomposition import PCA\n",
    "from sklearn import manifold\n",
    "from adap_ks_evid_per import adap_ks_evid_per"
   ]
  },
  {
   "cell_type": "code",
   "execution_count": 2,
   "metadata": {},
   "outputs": [],
   "source": [
    "# load traveltime data and (inverted) velocity data.\n",
    "ttdata = np.load('ttdata_cont.npy')\n",
    "veldata = np.load('veldata_cont.npy')\n",
    "nsamps = np.size(ttdata, axis=0)\n",
    "# load sampled values of orientation.\n",
    "cp = np.load('cp.npy')\n",
    "cpw = 2*cp # symmetry wrapping (to consider the periodic orientation)"
   ]
  },
  {
   "cell_type": "code",
   "execution_count": 3,
   "metadata": {},
   "outputs": [],
   "source": [
    "# Insight-driven features\n",
    "\n",
    "# Compute oriented averages\n",
    "nbelec = 19 # number of electrodes in one borehole\n",
    "orup = np.zeros([nbelec, nbelec])\n",
    "uprec = np.zeros([nbelec, nbelec])\n",
    "ordown = np.zeros([nbelec, nbelec])\n",
    "downrec = np.zeros([nbelec, nbelec])\n",
    "orav = np.zeros((nsamps, nbelec*2-1)) # substracting the zero-offset reciprocal\n",
    "for r in range(nsamps):\n",
    "    ttmat = np.reshape(ttdata[r,:], (38,19))\n",
    "    for i in range(nbelec):\n",
    "        for j in range(nbelec-i):\n",
    "            orup[j,i] = ttmat[j,i+j]\n",
    "            uprec[j,i] = ttmat[nbelec+i+j,j]\n",
    "            ordown[j,i] = ttmat[i+j,j]\n",
    "            downrec[j,i] = ttmat[nbelec+j,i+j]\n",
    "            #print(nbelec+j+1,i+j+1)\n",
    "        \n",
    "    orup[orup==0.] = np.nan\n",
    "    uprec[uprec==0.] = np.nan\n",
    "    ordown[ordown==0.] = np.nan\n",
    "    downrec[downrec==0.] = np.nan\n",
    "    \n",
    "    orav[r,0] = np.sum(orup[:,0] + uprec[:,0])/(nbelec*2)\n",
    "    for i in range(nbelec-1):\n",
    "        orav[r,i+1] = np.nansum(orup[:,i+1] + uprec[:,i+1])/(nbelec*2-(i+1)*2)\n",
    "        orav[r,nbelec+i] = np.nansum(ordown[:,i+1] + downrec[:,i+1])/(nbelec*2-(i+1)*2)\n",
    "\n",
    "# Build arrays (images) of the inverted velocities.\n",
    "velimag = np.zeros((49,24,nsamps))\n",
    "for i in range(nsamps):\n",
    "    velimag[:,:,i] = veldata[i,:].reshape(49,24)\n",
    "    \n",
    "# Radon transform on inverted velocities\n",
    "from skimage.transform import radon\n",
    "theta = [0,30,45,60,90,120,135,150]\n",
    "ntheta = len(theta)\n",
    "#ntheta= 180\n",
    "sinogram = np.zeros((70,ntheta,nsamps))\n",
    "for i in range(nsamps):\n",
    "    sinogram[:,:,i] = radon(velimag[:,:,i], theta=theta, circle=False)\n",
    "    \n",
    "sinogramc = np.zeros((nsamps,70*ntheta))\n",
    "for i in range(nsamps):\n",
    "    sinogramc[i,:] = np.reshape(sinogram[:,:,i], (70*ntheta))"
   ]
  },
  {
   "cell_type": "code",
   "execution_count": 4,
   "metadata": {},
   "outputs": [],
   "source": [
    "# initialize cross-validation matrix.\n",
    "ndims = 10\n",
    "nclus = 15\n",
    "avprob = np.zeros((nclus-1,ndims)) # (nclus-1) is because we start with two clusters (K=2)\n",
    "logprob = np.zeros((nclus-1,ndims))"
   ]
  },
  {
   "cell_type": "code",
   "execution_count": 5,
   "metadata": {},
   "outputs": [
    {
     "name": "stdout",
     "output_type": "stream",
     "text": [
      "score computed for N_f=1 and N_C=15\n",
      "score computed for N_f=2 and N_C=15\n",
      "score computed for N_f=3 and N_C=15\n",
      "score computed for N_f=4 and N_C=15\n",
      "score computed for N_f=5 and N_C=15\n",
      "score computed for N_f=6 and N_C=15\n",
      "score computed for N_f=7 and N_C=15\n",
      "score computed for N_f=8 and N_C=15\n",
      "score computed for N_f=9 and N_C=15\n",
      "score computed for N_f=10 and N_C=15\n"
     ]
    }
   ],
   "source": [
    "# iterate over the cross-validation combinations (may take a while).\n",
    "# uncomment/comment each of the 6 'blocks' to compute the CV matrix for the corresponding method.\n",
    "for j in range(ndims):\n",
    "\n",
    "    try:\n",
    "        textmeth = 'PCA_t'\n",
    "        dim = j+1\n",
    "        mypca = PCA(n_components=dim, random_state=5894)\n",
    "        lowdim = mypca.fit_transform(ttdata)\n",
    "        \n",
    "#        textmeth = 'MDS_t'\n",
    "#        dim=j+1\n",
    "#        mymds = manifold.MDS(n_components=dim, random_state=5894, n_init=20)\n",
    "#        lowdim = mymds.fit_transform(veldata) # change veldata/ttdata\n",
    "        \n",
    "#        textmeth = 'PCA_a'\n",
    "#        dim = j+1\n",
    "#        mypca = PCA(n_components=dim, random_state=5894, n_init=20)\n",
    "#        lowdim = mypca.fit_transform(orav)\n",
    "\n",
    "#        textmeth = 'MDS_a'\n",
    "#        dim = j+1\n",
    "#        mymds = manifold.MDS(n_components=dim, random_state=5894, n_init=20)\n",
    "#        lowdim = mymds.fit_transform(orav)\n",
    "\n",
    "#        textmeth = 'MDS_v'\n",
    "#        dim = j+1\n",
    "#        mymds = manifold.MDS(n_components=dim, random_state=5894, n_init=20)\n",
    "#        lowdim = mymds.fit_transform(veldata)\n",
    "        \n",
    "#        textmeth = 'MDS_R'\n",
    "#        dim = j+1\n",
    "#        mymds = manifold.MDS(n_components=dim, random_state=5894, n_init=20)\n",
    "#        lowdim = mymds.fit_transform(sinogramc)\n",
    "    \n",
    "        fac = np.std(cpw)/np.max(np.std(lowdim, axis=0))\n",
    "        lowdimp = np.column_stack([fac*lowdim,cpw])\n",
    "        dimp = dim + 1\n",
    "        \n",
    "        for l in range(nclus-1):\n",
    "            \n",
    "            K = l+2\n",
    "            updens = np.zeros(nsamps)\n",
    "            upevid = np.zeros(nsamps)\n",
    "            upmean = np.zeros(nsamps)\n",
    "            #upentro = np.zeros(nsamps)\n",
    "            for obs_pos in range(nsamps):   \n",
    "                q = np.zeros([1,dimp])\n",
    "                q[0,:dim], q[0,dim] = lowdimp[obs_pos,:dim], cpw[obs_pos,0] # set observation position\n",
    "                    \n",
    "                # take out observation for kernel density estimation\n",
    "                lowdimpdum = np.concatenate((lowdimp[:obs_pos,:], lowdimp[obs_pos+1:,:]), axis=0)\n",
    "                obs = q\n",
    "                updens[obs_pos], upevid[obs_pos], kclus, upmean[obs_pos] = adap_ks_evid_per(lowdimpdum, dimp, K, obs)\n",
    "            \n",
    "            upprob = updens/upevid\n",
    "            avprob[l,j] = np.average(upprob)\n",
    "            logprob[l,j] = np.average(np.log(upprob))\n",
    "\n",
    "        print('score computed for N_f=%i and N_C=%i'%(j+1,K))\n",
    "    except:\n",
    "        pass"
   ]
  },
  {
   "cell_type": "code",
   "execution_count": 6,
   "metadata": {},
   "outputs": [
    {
     "data": {
      "text/plain": [
       "<matplotlib.colorbar.Colorbar at 0x7f02e62445f8>"
      ]
     },
     "execution_count": 6,
     "metadata": {},
     "output_type": "execute_result"
    },
    {
     "data": {
      "image/png": "[encoded data removed]",
      "text/plain": [
       "<Figure size 252x252 with 2 Axes>"
      ]
     },
     "metadata": {
      "needs_background": "light"
     },
     "output_type": "display_data"
    }
   ],
   "source": [
    "# Plotting the cross-validation matrix\n",
    "\n",
    "# In case the AKDE computes a bandwidth of zero, the KDE estimation is not defined, then to plot we set:\n",
    "logprob[logprob==0.0] = np.nan\n",
    "\n",
    "fig, ax = plt.subplots()\n",
    "fig.set_size_inches(3.5,3.5)\n",
    "cb = ax.matshow(logprob, origin='lower')\n",
    "ax.set_xticks(np.arange(0,10,2))\n",
    "ax.set_xticklabels(np.arange(1,11,2))\n",
    "ax.set_yticks(np.arange(0,14,2))\n",
    "ax.set_yticklabels(np.arange(2,16,2))\n",
    "ax.tick_params(labelbottom=True, labeltop=False, axis='x')\n",
    "ax.set_xlabel(r'$N_{dim}$')\n",
    "ax.set_ylabel(r'$N_k$')\n",
    "fig.colorbar(cb, orientation='vertical', fraction=.1)"
   ]
  },
  {
   "cell_type": "code",
   "execution_count": 7,
   "metadata": {},
   "outputs": [
    {
     "name": "stdout",
     "output_type": "stream",
     "text": [
      "maximum logprob score is for N_f=3 and N_k=5\n"
     ]
    }
   ],
   "source": [
    "indmax = np.unravel_index(np.nanargmax(logprob, axis=None), logprob.shape)\n",
    "print('maximum logprob score is for N_f=%i and N_k=%i'%(indmax[1]+1,indmax[0]+2))"
   ]
  },
  {
   "cell_type": "code",
   "execution_count": null,
   "metadata": {},
   "outputs": [],
   "source": []
  }
 ],
 "metadata": {
  "kernelspec": {
   "display_name": "Python 3",
   "language": "python",
   "name": "python3"
  },
  "language_info": {
   "codemirror_mode": {
    "name": "ipython",
    "version": 3
   },
   "file_extension": ".py",
   "mimetype": "text/x-python",
   "name": "python",
   "nbconvert_exporter": "python",
   "pygments_lexer": "ipython3",
   "version": "3.5.2"
  }
 },
 "nbformat": 4,
 "nbformat_minor": 2
}
